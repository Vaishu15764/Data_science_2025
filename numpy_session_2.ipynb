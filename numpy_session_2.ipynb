{
 "cells": [
  {
   "cell_type": "code",
   "execution_count": 1,
   "id": "fdf6029f-20e0-4957-ad17-95223584e90e",
   "metadata": {},
   "outputs": [
    {
     "data": {
      "text/plain": [
       "array([10, 20, 30, 40])"
      ]
     },
     "execution_count": 1,
     "metadata": {},
     "output_type": "execute_result"
    }
   ],
   "source": [
    "import numpy as np\n",
    "l1=[10,20,30,40]\n",
    "arr1=np.array(l1)\n",
    "arr1"
   ]
  },
  {
   "cell_type": "code",
   "execution_count": 3,
   "id": "b22180b4-5ec0-4276-a688-cc6d55e04525",
   "metadata": {},
   "outputs": [
    {
     "data": {
      "text/plain": [
       "4"
      ]
     },
     "execution_count": 3,
     "metadata": {},
     "output_type": "execute_result"
    }
   ],
   "source": [
    "len(arr1)"
   ]
  },
  {
   "cell_type": "markdown",
   "id": "e54495c5-54d6-47e6-90c6-0781f10316d0",
   "metadata": {},
   "source": [
    "**shape-dimensions**"
   ]
  },
  {
   "cell_type": "code",
   "execution_count": 6,
   "id": "73ef69bd-90c8-4667-a0f4-55dcef124817",
   "metadata": {},
   "outputs": [
    {
     "data": {
      "text/plain": [
       "1"
      ]
     },
     "execution_count": 6,
     "metadata": {},
     "output_type": "execute_result"
    }
   ],
   "source": [
    "arr1.ndim # one list so one dimension"
   ]
  },
  {
   "cell_type": "code",
   "execution_count": 8,
   "id": "edc4fdc9-ae0b-49ee-ab47-5b3d6589a4cf",
   "metadata": {},
   "outputs": [
    {
     "data": {
      "text/plain": [
       "(4,)"
      ]
     },
     "execution_count": 8,
     "metadata": {},
     "output_type": "execute_result"
    }
   ],
   "source": [
    "\n",
    "arr1.shape"
   ]
  },
  {
   "cell_type": "code",
   "execution_count": 10,
   "id": "ec8ffded-0b37-4198-8534-54e9740abef2",
   "metadata": {},
   "outputs": [
    {
     "name": "stdout",
     "output_type": "stream",
     "text": [
      "[[10 20 30 40]]\n",
      "1\n",
      "2\n",
      "(1, 4)\n"
     ]
    }
   ],
   "source": [
    "l=[[10,20,30,40]]\n",
    "arr2=np.array(l)\n",
    "print(arr2)\n",
    "print(len(arr2))\n",
    "print(arr2.ndim)\n",
    "print(arr2.shape)"
   ]
  },
  {
   "cell_type": "code",
   "execution_count": 12,
   "id": "f0fb2f91-9a55-451d-b708-b48a8a4bf70e",
   "metadata": {},
   "outputs": [
    {
     "name": "stdout",
     "output_type": "stream",
     "text": [
      "[[10 20 30 40]\n",
      " [ 1  2  3  4]]\n",
      "2\n",
      "2\n",
      "(2, 4)\n"
     ]
    }
   ],
   "source": [
    "l1=[10,20,30,40]\n",
    "l2=[1,2,3,4]\n",
    "l=[l1,l2]\n",
    "arr2=np.array(l)\n",
    "print(arr2)\n",
    "print(len(arr2))\n",
    "print(arr2.ndim)\n",
    "print(arr2.shape)"
   ]
  },
  {
   "cell_type": "code",
   "execution_count": 18,
   "id": "26fdbed7-0237-4893-921e-83ee793af8b4",
   "metadata": {},
   "outputs": [
    {
     "name": "stdout",
     "output_type": "stream",
     "text": [
      "[['10' '20' '30' '40']\n",
      " ['1' '2' '3' '4']\n",
      " ['A' 'B' 'C' 'D']]\n",
      "3\n",
      "2\n",
      "(3, 4)\n"
     ]
    }
   ],
   "source": [
    "l1=[10,20,30,40]\n",
    "l2=[1,2,3,4]\n",
    "l3=['A','B','C','D']\n",
    "l=[l1,l2,l3]\n",
    "arr2=np.array(l)\n",
    "print(arr2)\n",
    "print(len(arr2))\n",
    "print(arr2.ndim)\n",
    "print(arr2.shape)"
   ]
  },
  {
   "cell_type": "code",
   "execution_count": 22,
   "id": "2344a1fb-6820-4372-93d7-2d61e8ba987d",
   "metadata": {},
   "outputs": [
    {
     "name": "stdout",
     "output_type": "stream",
     "text": [
      "[[['10' '20' '30' '40']\n",
      "  ['1' '2' '3' '4']\n",
      "  ['A' 'B' 'C' 'D']]]\n",
      "1\n",
      "3\n",
      "(1, 3, 4)\n"
     ]
    }
   ],
   "source": [
    "l=[[  [10,20,30,40],\n",
    "   [1,2,3,4],\n",
    "   ['A','B','C','D']\n",
    "  ]]\n",
    "arr2=np.array(l)\n",
    "print(arr2)\n",
    "print(len(arr2))\n",
    "print(arr2.ndim)\n",
    "print(arr2.shape)"
   ]
  },
  {
   "cell_type": "code",
   "execution_count": 32,
   "id": "fc219fec-86b7-4f18-b23f-3d5f3ec6768d",
   "metadata": {
    "scrolled": true
   },
   "outputs": [
    {
     "name": "stdout",
     "output_type": "stream",
     "text": [
      "[[['10' '20' '30' '40']\n",
      "  ['1' '2' '3' '4']\n",
      "  ['A' 'B' 'C' 'D']]\n",
      "\n",
      " [['10' '20' '30' '40']\n",
      "  ['1' '2' '3' '4']\n",
      "  ['A' 'B' 'C' 'D']]\n",
      "\n",
      " [['10' '20' '30' '40']\n",
      "  ['1' '2' '3' '4']\n",
      "  ['A' 'B' 'C' 'D']]]\n",
      "3\n",
      "3\n",
      "(3, 3, 4)\n"
     ]
    }
   ],
   "source": [
    "l=[[  [10,20,30,40],\n",
    "   [1,2,3,4],\n",
    "   ['A','B','C','D']\n",
    "  ],[  [10,20,30,40],\n",
    "   [1,2,3,4],\n",
    "   ['A','B','C','D']\n",
    "  ],[  [10,20,30,40],\n",
    "   [1,2,3,4],\n",
    "   ['A','B','C','D']\n",
    "  ],]\n",
    "arr2=np.array(l)\n",
    "print(arr2)\n",
    "print(len(arr2))\n",
    "print(arr2.ndim)\n",
    "print(arr2.shape)"
   ]
  },
  {
   "cell_type": "code",
   "execution_count": 30,
   "id": "b9a212b0-ad1e-41f6-884a-5d0ce6fa3879",
   "metadata": {},
   "outputs": [
    {
     "name": "stdout",
     "output_type": "stream",
     "text": [
      "[[[['10' '20' '30' '40']\n",
      "   ['1' '2' '3' '4']\n",
      "   ['A' 'B' 'C' 'D']]\n",
      "\n",
      "  [['10' '20' '30' '40']\n",
      "   ['1' '2' '3' '4']\n",
      "   ['A' 'B' 'C' 'D']]]]\n",
      "1\n",
      "4\n",
      "(1, 2, 3, 4)\n"
     ]
    }
   ],
   "source": [
    "l=[[[  [10,20,30,40],\n",
    "   [1,2,3,4],\n",
    "   ['A','B','C','D']\n",
    "  ],[  [10,20,30,40],\n",
    "   [1,2,3,4],\n",
    "   ['A','B','C','D']\n",
    "  ]\n",
    "  ]]\n",
    "arr2=np.array(l)\n",
    "print(arr2)\n",
    "print(len(arr2))\n",
    "print(arr2.ndim)\n",
    "print(arr2.shape)"
   ]
  },
  {
   "cell_type": "code",
   "execution_count": 38,
   "id": "c4f897d7-dd4d-4acc-90a6-bddcbce429e8",
   "metadata": {},
   "outputs": [
    {
     "name": "stdout",
     "output_type": "stream",
     "text": [
      "[[[['10' '20' '30' '40' '50']\n",
      "   ['1' '2' '3' '4' '5']\n",
      "   ['A' 'B' 'C' 'D' 'e']\n",
      "   ['23' '45' '67' '78' '56']]\n",
      "\n",
      "  [['10' '20' '30' '40' '50']\n",
      "   ['1' '2' '3' '4' '5']\n",
      "   ['A' 'B' 'C' 'D' 'e']\n",
      "   ['23' '45' '67' '78' '56']]\n",
      "\n",
      "  [['10' '20' '30' '40' '50']\n",
      "   ['1' '2' '3' '4' '5']\n",
      "   ['A' 'B' 'C' 'D' 'e']\n",
      "   ['23' '45' '67' '78' '56']]]\n",
      "\n",
      "\n",
      " [[['10' '20' '30' '40' '50']\n",
      "   ['1' '2' '3' '4' '5']\n",
      "   ['A' 'B' 'C' 'D' 'e']\n",
      "   ['23' '45' '67' '78' '56']]\n",
      "\n",
      "  [['10' '20' '30' '40' '50']\n",
      "   ['1' '2' '3' '4' '5']\n",
      "   ['A' 'B' 'C' 'D' 'e']\n",
      "   ['23' '45' '67' '78' '56']]\n",
      "\n",
      "  [['10' '20' '30' '40' '50']\n",
      "   ['1' '2' '3' '4' '5']\n",
      "   ['A' 'B' 'C' 'D' 'e']\n",
      "   ['23' '45' '67' '78' '56']]]]\n",
      "2\n",
      "4\n",
      "(2, 3, 4, 5)\n"
     ]
    }
   ],
   "source": [
    "l=[[[  [10,20,30,40,50],\n",
    "   [1,2,3,4,5],\n",
    "   ['A','B','C','D','e'],\n",
    "    [23,45,67,78,56] \n",
    "  ],[  [10,20,30,40,50],\n",
    "   [1,2,3,4,5],\n",
    "   ['A','B','C','D','e'],\n",
    "     [23,45,67,78,56] \n",
    "  ],[  [10,20,30,40,50],\n",
    "   [1,2,3,4,5],\n",
    "   ['A','B','C','D','e'],[23,45,67,78,56] \n",
    "  ],\n",
    "  ],[[  [10,20,30,40,50],\n",
    "   [1,2,3,4,5],\n",
    "   ['A','B','C','D','e'],\n",
    "      [23,45,67,78,56] \n",
    "  ],[  [10,20,30,40,50],\n",
    "   [1,2,3,4,5],\n",
    "   ['A','B','C','D','e'],[23,45,67,78,56] \n",
    "  ],[  [10,20,30,40,50],\n",
    "   [1,2,3,4,5],\n",
    "   ['A','B','C','D','e'],\n",
    "     [23,45,67,78,56] \n",
    "  ]]]\n",
    "arr2=np.array(l)\n",
    "print(arr2)\n",
    "print(len(arr2))\n",
    "print(arr2.ndim)\n",
    "print(arr2.shape)"
   ]
  },
  {
   "cell_type": "code",
   "execution_count": 42,
   "id": "51a010cb-4329-46ea-8a43-e973081ce0d1",
   "metadata": {},
   "outputs": [
    {
     "data": {
      "text/plain": [
       "[10, 10]"
      ]
     },
     "execution_count": 42,
     "metadata": {},
     "output_type": "execute_result"
    }
   ],
   "source": [
    "l1=10\n",
    "l=[l1,l1]\n",
    "l"
   ]
  },
  {
   "cell_type": "code",
   "execution_count": 52,
   "id": "10b46c40-9973-4151-929d-184a78773878",
   "metadata": {},
   "outputs": [
    {
     "name": "stdout",
     "output_type": "stream",
     "text": [
      "[[[[[10]\n",
      "    [10]]\n",
      "\n",
      "   [[10]\n",
      "    [10]]\n",
      "\n",
      "   [[10]\n",
      "    [10]]]\n",
      "\n",
      "\n",
      "  [[[10]\n",
      "    [10]]\n",
      "\n",
      "   [[10]\n",
      "    [10]]\n",
      "\n",
      "   [[10]\n",
      "    [10]]]\n",
      "\n",
      "\n",
      "  [[[10]\n",
      "    [10]]\n",
      "\n",
      "   [[10]\n",
      "    [10]]\n",
      "\n",
      "   [[10]\n",
      "    [10]]]\n",
      "\n",
      "\n",
      "  [[[10]\n",
      "    [10]]\n",
      "\n",
      "   [[10]\n",
      "    [10]]\n",
      "\n",
      "   [[10]\n",
      "    [10]]]]\n",
      "\n",
      "\n",
      "\n",
      " [[[[10]\n",
      "    [10]]\n",
      "\n",
      "   [[10]\n",
      "    [10]]\n",
      "\n",
      "   [[10]\n",
      "    [10]]]\n",
      "\n",
      "\n",
      "  [[[10]\n",
      "    [10]]\n",
      "\n",
      "   [[10]\n",
      "    [10]]\n",
      "\n",
      "   [[10]\n",
      "    [10]]]\n",
      "\n",
      "\n",
      "  [[[10]\n",
      "    [10]]\n",
      "\n",
      "   [[10]\n",
      "    [10]]\n",
      "\n",
      "   [[10]\n",
      "    [10]]]\n",
      "\n",
      "\n",
      "  [[[10]\n",
      "    [10]]\n",
      "\n",
      "   [[10]\n",
      "    [10]]\n",
      "\n",
      "   [[10]\n",
      "    [10]]]]\n",
      "\n",
      "\n",
      "\n",
      " [[[[10]\n",
      "    [10]]\n",
      "\n",
      "   [[10]\n",
      "    [10]]\n",
      "\n",
      "   [[10]\n",
      "    [10]]]\n",
      "\n",
      "\n",
      "  [[[10]\n",
      "    [10]]\n",
      "\n",
      "   [[10]\n",
      "    [10]]\n",
      "\n",
      "   [[10]\n",
      "    [10]]]\n",
      "\n",
      "\n",
      "  [[[10]\n",
      "    [10]]\n",
      "\n",
      "   [[10]\n",
      "    [10]]\n",
      "\n",
      "   [[10]\n",
      "    [10]]]\n",
      "\n",
      "\n",
      "  [[[10]\n",
      "    [10]]\n",
      "\n",
      "   [[10]\n",
      "    [10]]\n",
      "\n",
      "   [[10]\n",
      "    [10]]]]\n",
      "\n",
      "\n",
      "\n",
      " [[[[10]\n",
      "    [10]]\n",
      "\n",
      "   [[10]\n",
      "    [10]]\n",
      "\n",
      "   [[10]\n",
      "    [10]]]\n",
      "\n",
      "\n",
      "  [[[10]\n",
      "    [10]]\n",
      "\n",
      "   [[10]\n",
      "    [10]]\n",
      "\n",
      "   [[10]\n",
      "    [10]]]\n",
      "\n",
      "\n",
      "  [[[10]\n",
      "    [10]]\n",
      "\n",
      "   [[10]\n",
      "    [10]]\n",
      "\n",
      "   [[10]\n",
      "    [10]]]\n",
      "\n",
      "\n",
      "  [[[10]\n",
      "    [10]]\n",
      "\n",
      "   [[10]\n",
      "    [10]]\n",
      "\n",
      "   [[10]\n",
      "    [10]]]]\n",
      "\n",
      "\n",
      "\n",
      " [[[[10]\n",
      "    [10]]\n",
      "\n",
      "   [[10]\n",
      "    [10]]\n",
      "\n",
      "   [[10]\n",
      "    [10]]]\n",
      "\n",
      "\n",
      "  [[[10]\n",
      "    [10]]\n",
      "\n",
      "   [[10]\n",
      "    [10]]\n",
      "\n",
      "   [[10]\n",
      "    [10]]]\n",
      "\n",
      "\n",
      "  [[[10]\n",
      "    [10]]\n",
      "\n",
      "   [[10]\n",
      "    [10]]\n",
      "\n",
      "   [[10]\n",
      "    [10]]]\n",
      "\n",
      "\n",
      "  [[[10]\n",
      "    [10]]\n",
      "\n",
      "   [[10]\n",
      "    [10]]\n",
      "\n",
      "   [[10]\n",
      "    [10]]]]]\n",
      "5\n",
      "5\n",
      "(5, 4, 3, 2, 1)\n"
     ]
    }
   ],
   "source": [
    "l= [10] \n",
    "l1=[l,l]\n",
    "l2=[l1,l1,l1]\n",
    "l3=[l2,l2,l2,l2]\n",
    "l4=[l3,l3,l3,l3,l3]\n",
    "arr2=np.array(l4)\n",
    "print(arr2)\n",
    "print(len(arr2))\n",
    "print(arr2.ndim)\n",
    "print(arr2.shape)"
   ]
  },
  {
   "cell_type": "code",
   "execution_count": null,
   "id": "98184167-9687-4e71-83de-c839713b5087",
   "metadata": {},
   "outputs": [],
   "source": []
  }
 ],
 "metadata": {
  "kernelspec": {
   "display_name": "Python [conda env:base] *",
   "language": "python",
   "name": "conda-base-py"
  },
  "language_info": {
   "codemirror_mode": {
    "name": "ipython",
    "version": 3
   },
   "file_extension": ".py",
   "mimetype": "text/x-python",
   "name": "python",
   "nbconvert_exporter": "python",
   "pygments_lexer": "ipython3",
   "version": "3.12.7"
  }
 },
 "nbformat": 4,
 "nbformat_minor": 5
}
