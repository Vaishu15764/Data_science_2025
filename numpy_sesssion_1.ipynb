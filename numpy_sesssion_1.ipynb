{
 "cells": [
  {
   "cell_type": "markdown",
   "id": "ccf65996-2743-4f99-a40e-4fac6089413b",
   "metadata": {},
   "source": [
    "## Numpy\n",
    "- Numpy: Numerical python\n",
    "\n",
    "- we already seen math packages\n",
    "\n",
    "- Numpy also similar to math package\n",
    "\n",
    "- But Numpy works with arrays\n",
    "\n",
    "- it is used for high level math computations"
   ]
  },
  {
   "cell_type": "markdown",
   "id": "d4e7b9a7-addb-4b98-b24e-ac588c534c1a",
   "metadata": {},
   "source": [
    "- we can make elements in multiple ways\n",
    "\n",
    "    - List : Basic python\n",
    "\n",
    "    - Tuple : Basic python\n",
    "\n",
    "    - arrays : Numpy\n",
    "\n",
    "    - tensors : Tensorflow or torch"
   ]
  },
  {
   "cell_type": "code",
   "execution_count": null,
   "id": "6a9503ef-dcaa-47a6-8b53-0413ce18f4da",
   "metadata": {},
   "outputs": [],
   "source": [
    "l1=[10,20,30,40]\n",
    "t1=(10,20,30,40)\n",
    "array({10,20,30,40])\n",
    "tensor([10,20,30,40])"
   ]
  },
  {
   "cell_type": "code",
   "execution_count": 3,
   "id": "3e4aa0fa-060c-46d4-a320-18ed031800b0",
   "metadata": {},
   "outputs": [
    {
     "data": {
      "text/plain": [
       "array([10, 20, 30, 40])"
      ]
     },
     "execution_count": 3,
     "metadata": {},
     "output_type": "execute_result"
    }
   ],
   "source": [
    "import numpy as np \n",
    "l1=[10,20,30,40]\n",
    "np.array(l1)"
   ]
  },
  {
   "cell_type": "code",
   "execution_count": 5,
   "id": "793b5a0a-f90c-4b57-a793-34c236124f94",
   "metadata": {},
   "outputs": [
    {
     "data": {
      "text/plain": [
       "array([10, 20, 30, 40])"
      ]
     },
     "execution_count": 5,
     "metadata": {},
     "output_type": "execute_result"
    }
   ],
   "source": [
    "import numpy as np \n",
    "t1=(10,20,30,40)\n",
    "np.array(l1)"
   ]
  },
  {
   "cell_type": "code",
   "execution_count": 17,
   "id": "c4e95929-f557-4c34-ba9d-a6686dfec289",
   "metadata": {},
   "outputs": [
    {
     "data": {
      "text/plain": [
       "[110, 220, 330, 440]"
      ]
     },
     "execution_count": 17,
     "metadata": {},
     "output_type": "execute_result"
    }
   ],
   "source": [
    "l1=[10,20,30,40]\n",
    "l2=[100,200,300,400]\n",
    "[i+j for i,j in zip(l1,l2)]"
   ]
  },
  {
   "cell_type": "code",
   "execution_count": 19,
   "id": "4269d43f-1de5-40ed-ba0f-ad042bdee2e8",
   "metadata": {},
   "outputs": [
    {
     "name": "stdout",
     "output_type": "stream",
     "text": [
      "[110 220 330 440]\n",
      "[ -90 -180 -270 -360]\n",
      "[ 1000  4000  9000 16000]\n",
      "[0.1 0.1 0.1 0.1]\n"
     ]
    }
   ],
   "source": [
    "l1=[10,20,30,40]\n",
    "l2=[100,200,300,400]\n",
    "arr1=np.array(l1)\n",
    "arr2=np.array(l2)\n",
    "print(arr1+arr2)\n",
    "print(arr1-arr2)\n",
    "print(arr1*arr2)\n",
    "print(arr1/arr2)"
   ]
  },
  {
   "cell_type": "markdown",
   "id": "4d7f9e73-f71c-4544-b1a1-762c2eef3091",
   "metadata": {},
   "source": [
    "**use case-2**"
   ]
  },
  {
   "cell_type": "code",
   "execution_count": 28,
   "id": "df8e4b31-7cee-44e5-b329-9217b896eecb",
   "metadata": {},
   "outputs": [
    {
     "name": "stdout",
     "output_type": "stream",
     "text": [
      "total time: 56.98832178115845\n"
     ]
    }
   ],
   "source": [
    "import time\n",
    "start=time.time()\n",
    "l1=list(range(100000000))\n",
    "l2=list(range(100000000))\n",
    "[i*j for i,j in zip(l1,l2)]\n",
    "end=time.time()\n",
    "print('total time:',(end-start))"
   ]
  },
  {
   "cell_type": "code",
   "execution_count": 1,
   "id": "f8d319a6-a4ac-4719-beed-0b33d396c390",
   "metadata": {},
   "outputs": [
    {
     "name": "stdout",
     "output_type": "stream",
     "text": [
      "total time: 1.6116485595703125\n"
     ]
    }
   ],
   "source": [
    "import time\n",
    "import numpy as np\n",
    "start=time.time()\n",
    "l1=list(range(10000000))\n",
    "arr1=np.array(l1)\n",
    "l2=list(range(10000000))\n",
    "arr2=np.array(l2)\n",
    "[i*j for i,j in zip(l1,l2)]\n",
    "end=time.time()\n",
    "print('total time:',(end-start))"
   ]
  },
  {
   "cell_type": "code",
   "execution_count": 6,
   "id": "ca8d9c0f-6b8f-4585-9368-a5fe973bc74a",
   "metadata": {},
   "outputs": [
    {
     "name": "stdout",
     "output_type": "stream",
     "text": [
      "total time: 0.7625222206115723\n"
     ]
    }
   ],
   "source": [
    "import time\n",
    "import numpy as np\n",
    "start=time.time()\n",
    "arr1=np.arange(10000000)\n",
    "arr2=np.arange(10000000)\n",
    "[i*j for i,j in zip(l1,l2)]\n",
    "end=time.time()\n",
    "print('total time:',(end-start))"
   ]
  },
  {
   "cell_type": "code",
   "execution_count": null,
   "id": "e0d8338f-2b26-40e1-ad13-e19d90916e64",
   "metadata": {},
   "outputs": [],
   "source": []
  }
 ],
 "metadata": {
  "kernelspec": {
   "display_name": "Python [conda env:base] *",
   "language": "python",
   "name": "conda-base-py"
  },
  "language_info": {
   "codemirror_mode": {
    "name": "ipython",
    "version": 3
   },
   "file_extension": ".py",
   "mimetype": "text/x-python",
   "name": "python",
   "nbconvert_exporter": "python",
   "pygments_lexer": "ipython3",
   "version": "3.12.7"
  }
 },
 "nbformat": 4,
 "nbformat_minor": 5
}
